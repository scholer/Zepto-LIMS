{
 "cells": [
  {
   "cell_type": "code",
   "execution_count": null,
   "metadata": {},
   "outputs": [],
   "source": []
  },
  {
   "cell_type": "code",
   "execution_count": 19,
   "metadata": {},
   "outputs": [],
   "source": [
    "import sys\n",
    "import os\n",
    "from pathlib import Path\n",
    "from collections import OrderedDict\n",
    "from pprint import pprint, pformat"
   ]
  },
  {
   "cell_type": "code",
   "execution_count": 20,
   "metadata": {},
   "outputs": [],
   "source": [
    "import cv2\n",
    "import numpy as np\n",
    "import pandas as pd\n",
    "import matplotlib\n",
    "from IPython.display import display\n"
   ]
  },
  {
   "cell_type": "code",
   "execution_count": 72,
   "metadata": {},
   "outputs": [
    {
     "name": "stdout",
     "output_type": "stream",
     "text": [
      "dm00,Box1\n",
      "dm01,Box1\n",
      "dm02,Box1\n",
      "dm03,Box1\n",
      "dm04,Box1\n",
      "dm05,Box1\n",
      "dm06,Box1\n",
      "dm07,Box1\n",
      "dm08,Box1\n",
      "dm09,Box1\n",
      "dm10,Box1\n",
      "dm11,Box1\n",
      "dm12,Box1\n",
      "dm13,Box1\n",
      "dm14,Box1\n",
      "dm15,Box1\n",
      "dm16,Box1\n",
      "dm17,Box1\n",
      "dm18,Box1\n",
      "dm19,Box1\n",
      "dm20,Box2\n",
      "dm21,Box2\n",
      "dm22,Box2\n",
      "dm23,Box2\n",
      "dm24,Box2\n",
      "dm25,Box2\n",
      "dm26,Box2\n",
      "dm27,Box2\n",
      "dm28,Box2\n",
      "dm29,Box2\n",
      "dm30,Box2\n",
      "dm31,Box2\n",
      "dm32,Box2\n",
      "dm33,Box2\n",
      "dm34,Box2\n"
     ]
    }
   ],
   "source": [
    "boxname = \"Box1\"\n",
    "print(\"\\n\".join(f\"dm{num:02},{boxname}\" for num in range(20)))\n",
    "boxname = \"Box2\"\n",
    "print(\"\\n\".join(f\"dm{num:02},{boxname}\" for num in range(20, 35)))\n"
   ]
  },
  {
   "cell_type": "code",
   "execution_count": 1,
   "metadata": {},
   "outputs": [
    {
     "name": "stdout",
     "output_type": "stream",
     "text": [
      "A01\n",
      "A02\n",
      "A03\n",
      "A04\n",
      "A05\n",
      "A06\n",
      "A07\n",
      "A08\n",
      "A09\n",
      "B01\n",
      "B02\n",
      "B03\n",
      "B04\n",
      "B05\n",
      "B06\n",
      "B07\n",
      "B08\n",
      "B09\n",
      "C01\n",
      "C02\n",
      "C03\n",
      "C04\n",
      "C05\n",
      "C06\n",
      "C07\n",
      "C08\n",
      "C09\n",
      "D01\n",
      "D02\n",
      "D03\n",
      "D04\n",
      "D05\n",
      "D06\n",
      "D07\n",
      "D08\n",
      "D09\n",
      "E01\n",
      "E02\n",
      "E03\n",
      "E04\n",
      "E05\n",
      "E06\n",
      "E07\n",
      "E08\n",
      "E09\n",
      "F01\n",
      "F02\n",
      "F03\n",
      "F04\n",
      "F05\n",
      "F06\n",
      "F07\n",
      "F08\n",
      "F09\n",
      "G01\n",
      "G02\n",
      "G03\n",
      "G04\n",
      "G05\n",
      "G06\n",
      "G07\n",
      "G08\n",
      "G09\n",
      "H01\n",
      "H02\n",
      "H03\n",
      "H04\n",
      "H05\n",
      "H06\n",
      "H07\n",
      "H08\n",
      "H09\n"
     ]
    }
   ],
   "source": [
    "import string\n",
    "for r in \"ABCDEFGH\":\n",
    "    for c in range(1, 10):\n",
    "        print(f\"{r}{c:02}\")"
   ]
  },
  {
   "cell_type": "code",
   "execution_count": 73,
   "metadata": {},
   "outputs": [
    {
     "data": {
      "text/plain": [
       "WindowsPath('C:/Users/au206270/Dev/Zepto-LIMS-Inventory-tube-tracker/zepto_lims/examples/example_data')"
      ]
     },
     "execution_count": 73,
     "metadata": {},
     "output_type": "execute_result"
    }
   ],
   "source": [
    "sys.path.insert(0, os.path.abspath('..'))\n",
    "import zepto_lims\n",
    "\n",
    "example_data_dir = Path(zepto_lims.__file__).parent / \"examples\" / \"example_data\"\n",
    "example_data_dir"
   ]
  },
  {
   "cell_type": "code",
   "execution_count": 74,
   "metadata": {},
   "outputs": [
    {
     "data": {
      "text/html": [
       "<div>\n",
       "<style scoped>\n",
       "    .dataframe tbody tr th:only-of-type {\n",
       "        vertical-align: middle;\n",
       "    }\n",
       "\n",
       "    .dataframe tbody tr th {\n",
       "        vertical-align: top;\n",
       "    }\n",
       "\n",
       "    .dataframe thead th {\n",
       "        text-align: right;\n",
       "    }\n",
       "</style>\n",
       "<table border=\"1\" class=\"dataframe\">\n",
       "  <thead>\n",
       "    <tr style=\"text-align: right;\">\n",
       "      <th></th>\n",
       "      <th>barcode</th>\n",
       "      <th>boxname</th>\n",
       "    </tr>\n",
       "  </thead>\n",
       "  <tbody>\n",
       "    <tr>\n",
       "      <th>0</th>\n",
       "      <td>dm00</td>\n",
       "      <td>Box1</td>\n",
       "    </tr>\n",
       "    <tr>\n",
       "      <th>1</th>\n",
       "      <td>dm01</td>\n",
       "      <td>Box1</td>\n",
       "    </tr>\n",
       "    <tr>\n",
       "      <th>2</th>\n",
       "      <td>dm02</td>\n",
       "      <td>Box1</td>\n",
       "    </tr>\n",
       "    <tr>\n",
       "      <th>3</th>\n",
       "      <td>dm03</td>\n",
       "      <td>Box1</td>\n",
       "    </tr>\n",
       "    <tr>\n",
       "      <th>4</th>\n",
       "      <td>dm04</td>\n",
       "      <td>Box1</td>\n",
       "    </tr>\n",
       "  </tbody>\n",
       "</table>\n",
       "</div>"
      ],
      "text/plain": [
       "  barcode boxname\n",
       "0    dm00    Box1\n",
       "1    dm01    Box1\n",
       "2    dm02    Box1\n",
       "3    dm03    Box1\n",
       "4    dm04    Box1"
      ]
     },
     "execution_count": 74,
     "metadata": {},
     "output_type": "execute_result"
    }
   ],
   "source": [
    "tubes_df = pd.read_csv(example_data_dir / 'Default_tubes.csv')\n",
    "tubes_df.head()"
   ]
  },
  {
   "cell_type": "code",
   "execution_count": 75,
   "metadata": {},
   "outputs": [],
   "source": [
    "grouped = tubes_df.groupby('boxname')"
   ]
  },
  {
   "cell_type": "code",
   "execution_count": 76,
   "metadata": {},
   "outputs": [
    {
     "ename": "AttributeError",
     "evalue": "'DataFrameGroupBy' object has no attribute 'Barcode'",
     "output_type": "error",
     "traceback": [
      "\u001b[1;31m---------------------------------------------------------------------------\u001b[0m",
      "\u001b[1;31mAttributeError\u001b[0m                            Traceback (most recent call last)",
      "\u001b[1;32m<ipython-input-76-2df2afd1fd0a>\u001b[0m in \u001b[0;36m<module>\u001b[1;34m\u001b[0m\n\u001b[1;32m----> 1\u001b[1;33m \u001b[0mtype\u001b[0m\u001b[1;33m(\u001b[0m\u001b[0mgrouped\u001b[0m\u001b[1;33m.\u001b[0m\u001b[0mBarcode\u001b[0m\u001b[1;33m)\u001b[0m\u001b[1;33m\u001b[0m\u001b[1;33m\u001b[0m\u001b[0m\n\u001b[0m",
      "\u001b[1;32m~\\AppData\\Local\\Continuum\\anaconda3\\envs\\barcode-tests-37\\lib\\site-packages\\pandas\\core\\groupby\\groupby.py\u001b[0m in \u001b[0;36m__getattr__\u001b[1;34m(self, attr)\u001b[0m\n\u001b[0;32m    564\u001b[0m \u001b[1;33m\u001b[0m\u001b[0m\n\u001b[0;32m    565\u001b[0m         raise AttributeError(\n\u001b[1;32m--> 566\u001b[1;33m             \u001b[1;34m\"%r object has no attribute %r\"\u001b[0m \u001b[1;33m%\u001b[0m \u001b[1;33m(\u001b[0m\u001b[0mtype\u001b[0m\u001b[1;33m(\u001b[0m\u001b[0mself\u001b[0m\u001b[1;33m)\u001b[0m\u001b[1;33m.\u001b[0m\u001b[0m__name__\u001b[0m\u001b[1;33m,\u001b[0m \u001b[0mattr\u001b[0m\u001b[1;33m)\u001b[0m\u001b[1;33m\u001b[0m\u001b[1;33m\u001b[0m\u001b[0m\n\u001b[0m\u001b[0;32m    567\u001b[0m         )\n\u001b[0;32m    568\u001b[0m \u001b[1;33m\u001b[0m\u001b[0m\n",
      "\u001b[1;31mAttributeError\u001b[0m: 'DataFrameGroupBy' object has no attribute 'Barcode'"
     ]
    }
   ],
   "source": [
    "type(grouped.Barcode)"
   ]
  },
  {
   "cell_type": "code",
   "execution_count": 77,
   "metadata": {},
   "outputs": [
    {
     "name": "stdout",
     "output_type": "stream",
     "text": [
      "dm06,dm05,dm02,dm11,dm19,dm08,dm18,dm10,dm15,dm04,dm12,dm17,dm07,dm16,dm00,dm01,dm14,dm13,dm09,dm03\n"
     ]
    }
   ],
   "source": [
    "box1_barcodes = grouped.get_group('Box1')['barcode']\n",
    "box1_barcodes\n",
    "box1_barcodeset = set(box1_barcodes)\n",
    "box1_barcodeset\n",
    "print(\",\".join(box1_barcodeset))"
   ]
  },
  {
   "cell_type": "code",
   "execution_count": 78,
   "metadata": {},
   "outputs": [
    {
     "name": "stdout",
     "output_type": "stream",
     "text": [
      "Box1\n",
      "['dm00' 'dm01' 'dm02' 'dm03' 'dm04' 'dm05' 'dm06' 'dm07' 'dm08' 'dm09'\n",
      " 'dm10' 'dm11' 'dm12' 'dm13' 'dm14' 'dm15' 'dm16' 'dm17' 'dm18' 'dm19']\n",
      "\n",
      "\n",
      "Box2\n",
      "['dm20' 'dm21' 'dm22' 'dm23' 'dm24' 'dm25' 'dm26' 'dm27' 'dm28' 'dm29'\n",
      " 'dm30' 'dm31' 'dm32' 'dm33' 'dm34']\n",
      "\n",
      "\n"
     ]
    }
   ],
   "source": [
    "for groupname, group_df in grouped:\n",
    "    print(groupname)\n",
    "    print(group_df['barcode'].values)\n",
    "    print(\"\\n\")"
   ]
  },
  {
   "cell_type": "code",
   "execution_count": 79,
   "metadata": {},
   "outputs": [
    {
     "data": {
      "text/plain": [
       "{'dm02',\n",
       " 'dm05',\n",
       " 'dm06',\n",
       " 'dm08',\n",
       " 'dm11',\n",
       " 'dm18',\n",
       " 'dm19',\n",
       " 'dm40',\n",
       " 'dm41',\n",
       " 'dm42'}"
      ]
     },
     "execution_count": 79,
     "metadata": {},
     "output_type": "execute_result"
    }
   ],
   "source": [
    "barcodes_set = set(\"dm06,dm05,dm02,dm11,dm19,dm08,dm18,dm40,dm41,dm42\".split(\",\"))\n",
    "barcodes_set"
   ]
  },
  {
   "cell_type": "code",
   "execution_count": 80,
   "metadata": {},
   "outputs": [
    {
     "data": {
      "text/plain": [
       "{'dm40', 'dm41', 'dm42'}"
      ]
     },
     "execution_count": 80,
     "metadata": {},
     "output_type": "execute_result"
    }
   ],
   "source": [
    "barcodeset - box1_barcodeset  # New"
   ]
  },
  {
   "cell_type": "code",
   "execution_count": 93,
   "metadata": {},
   "outputs": [
    {
     "name": "stdout",
     "output_type": "stream",
     "text": [
      "scanned_barcodeset:  ['dm02', 'dm05', 'dm06', 'dm08', 'dm11', 'dm18', 'dm19', 'dm40', 'dm41', 'dm42']\n",
      "Box1:  ['dm00', 'dm01', 'dm02', 'dm03', 'dm04', 'dm05', 'dm06', 'dm07', 'dm08', 'dm09', 'dm10', 'dm11', 'dm12', 'dm13', 'dm14', 'dm15', 'dm16', 'dm17', 'dm18', 'dm19']\n",
      "Box2:  ['dm20', 'dm21', 'dm22', 'dm23', 'dm24', 'dm25', 'dm26', 'dm27', 'dm28', 'dm29', 'dm30', 'dm31', 'dm32', 'dm33', 'dm34']\n",
      "Box1\n",
      " Common: ['dm02', 'dm05', 'dm06', 'dm08', 'dm11', 'dm18', 'dm19']\n",
      " Added: ['dm40', 'dm41', 'dm42']\n",
      " Removed: ['dm00', 'dm01', 'dm03', 'dm04', 'dm07', 'dm09', 'dm10', 'dm12', 'dm13', 'dm14', 'dm15', 'dm16', 'dm17']\n",
      "\n",
      "Box2\n",
      " Common: []\n",
      " Added: ['dm02', 'dm05', 'dm06', 'dm08', 'dm11', 'dm18', 'dm19', 'dm40', 'dm41', 'dm42']\n",
      " Removed: ['dm20', 'dm21', 'dm22', 'dm23', 'dm24', 'dm25', 'dm26', 'dm27', 'dm28', 'dm29', 'dm30', 'dm31', 'dm32', 'dm33', 'dm34']\n"
     ]
    },
    {
     "data": {
      "text/plain": [
       "[(5.1000000000000005, 'Box1'), (-3.5, 'Box2')]"
      ]
     },
     "execution_count": 93,
     "metadata": {},
     "output_type": "execute_result"
    }
   ],
   "source": [
    "tubes_grouped_by_box = tubes_df.groupby('boxname')\n",
    "boxes_barcodesets = OrderedDict(\n",
    "    {boxname: set(group_df['barcode'].values)\n",
    "     for boxname, group_df in tubes_df.groupby('boxname')}\n",
    ")\n",
    "# common, added, missing\n",
    "boxes_diff = {boxname: (\n",
    "        box_barcodes & barcodes_set,  # intersection\n",
    "        barcodes_set - box_barcodes,  # added\n",
    "        box_barcodes - barcodes_set,  # removed\n",
    "    )\n",
    "    for boxname, box_barcodes in boxes_barcodesets.items()\n",
    "}\n",
    "print(\"scanned_barcodeset: \", sorted(barcodes_set))\n",
    "print(\"Box1: \", sorted(boxes_barcodesets['Box1']))\n",
    "print(\"Box2: \", sorted(boxes_barcodesets['Box2']))\n",
    "print(\"\\n\\n\".join(\n",
    "    f\"{boxname}\\n Common: {sorted(common)}\\n Added: {sorted(added)}\\n Removed: {sorted(removed)}\"\n",
    "    for boxname, (common, added, removed) in boxes_diff.items()\n",
    "))\n",
    "\n",
    "box_similarity_scores = sorted([\n",
    "    (len(common) - 0.2*len(added) - 0.1*len(removed), boxname) \n",
    "    for boxname, (common, added, removed) in boxes_diff.items()\n",
    "], reverse=True)\n",
    "box_similarity_scores"
   ]
  },
  {
   "cell_type": "code",
   "execution_count": 95,
   "metadata": {},
   "outputs": [
    {
     "name": "stdout",
     "output_type": "stream",
     "text": [
      "[(5.1000000000000005, 'Box1'), (-3.5, 'Box2')]\n"
     ]
    }
   ],
   "source": [
    "box_similarity_scores = sorted([\n",
    "    (len(common) - 0.2*len(added) - 0.1*len(removed), boxname)\n",
    "    for boxname, (common, added, removed) in boxes_diff.items()\n",
    "], reverse=True)\n",
    "pprint(box_similarity_scores)\n"
   ]
  },
  {
   "cell_type": "code",
   "execution_count": 106,
   "metadata": {},
   "outputs": [
    {
     "data": {
      "text/html": [
       "<div>\n",
       "<style scoped>\n",
       "    .dataframe tbody tr th:only-of-type {\n",
       "        vertical-align: middle;\n",
       "    }\n",
       "\n",
       "    .dataframe tbody tr th {\n",
       "        vertical-align: top;\n",
       "    }\n",
       "\n",
       "    .dataframe thead th {\n",
       "        text-align: right;\n",
       "    }\n",
       "</style>\n",
       "<table border=\"1\" class=\"dataframe\">\n",
       "  <thead>\n",
       "    <tr style=\"text-align: right;\">\n",
       "      <th></th>\n",
       "      <th>common</th>\n",
       "      <th>added</th>\n",
       "      <th>removed</th>\n",
       "      <th>similarity</th>\n",
       "    </tr>\n",
       "  </thead>\n",
       "  <tbody>\n",
       "    <tr>\n",
       "      <th>Box1</th>\n",
       "      <td>7</td>\n",
       "      <td>3</td>\n",
       "      <td>13</td>\n",
       "      <td>5.1</td>\n",
       "    </tr>\n",
       "    <tr>\n",
       "      <th>Box2</th>\n",
       "      <td>0</td>\n",
       "      <td>10</td>\n",
       "      <td>15</td>\n",
       "      <td>-3.5</td>\n",
       "    </tr>\n",
       "  </tbody>\n",
       "</table>\n",
       "</div>"
      ],
      "text/plain": [
       "      common  added  removed  similarity\n",
       "Box1       7      3       13         5.1\n",
       "Box2       0     10       15        -3.5"
      ]
     },
     "execution_count": 106,
     "metadata": {},
     "output_type": "execute_result"
    }
   ],
   "source": [
    "boxes_diff_count = OrderedDict(\n",
    "    (boxname, (len(common), len(added), len(removed), len(common) - 0.2*len(added) - 0.1*len(removed)))\n",
    "    for boxname, (common, added, removed) in boxes_diff.items()\n",
    ")\n",
    "boxes_diff_count_df = pd.DataFrame.from_records(\n",
    "    list(boxes_diff_count.values()), \n",
    "    columns=\"common added removed similarity\".split(),\n",
    "    index=boxes_diff_count.keys()\n",
    ")\n",
    "boxes_diff_count_df.head()"
   ]
  },
  {
   "cell_type": "code",
   "execution_count": 99,
   "metadata": {},
   "outputs": [
    {
     "data": {
      "text/html": [
       "<div>\n",
       "<style scoped>\n",
       "    .dataframe tbody tr th:only-of-type {\n",
       "        vertical-align: middle;\n",
       "    }\n",
       "\n",
       "    .dataframe tbody tr th {\n",
       "        vertical-align: top;\n",
       "    }\n",
       "\n",
       "    .dataframe thead th {\n",
       "        text-align: right;\n",
       "    }\n",
       "</style>\n",
       "<table border=\"1\" class=\"dataframe\">\n",
       "  <thead>\n",
       "    <tr style=\"text-align: right;\">\n",
       "      <th></th>\n",
       "      <th>Box1</th>\n",
       "      <th>Box2</th>\n",
       "    </tr>\n",
       "  </thead>\n",
       "  <tbody>\n",
       "    <tr>\n",
       "      <th>0</th>\n",
       "      <td>{dm19, dm06, dm08, dm18, dm05, dm02, dm11}</td>\n",
       "      <td>{}</td>\n",
       "    </tr>\n",
       "    <tr>\n",
       "      <th>1</th>\n",
       "      <td>{dm41, dm40, dm42}</td>\n",
       "      <td>{dm19, dm06, dm08, dm41, dm40, dm18, dm42, dm0...</td>\n",
       "    </tr>\n",
       "    <tr>\n",
       "      <th>2</th>\n",
       "      <td>{dm00, dm04, dm12, dm17, dm01, dm07, dm14, dm1...</td>\n",
       "      <td>{dm26, dm34, dm33, dm22, dm21, dm32, dm24, dm2...</td>\n",
       "    </tr>\n",
       "  </tbody>\n",
       "</table>\n",
       "</div>"
      ],
      "text/plain": [
       "                                                Box1  \\\n",
       "0         {dm19, dm06, dm08, dm18, dm05, dm02, dm11}   \n",
       "1                                 {dm41, dm40, dm42}   \n",
       "2  {dm00, dm04, dm12, dm17, dm01, dm07, dm14, dm1...   \n",
       "\n",
       "                                                Box2  \n",
       "0                                                 {}  \n",
       "1  {dm19, dm06, dm08, dm41, dm40, dm18, dm42, dm0...  \n",
       "2  {dm26, dm34, dm33, dm22, dm21, dm32, dm24, dm2...  "
      ]
     },
     "execution_count": 99,
     "metadata": {},
     "output_type": "execute_result"
    }
   ],
   "source": [
    "pd.DataFrame.from_records(boxes_diff)"
   ]
  },
  {
   "cell_type": "code",
   "execution_count": 109,
   "metadata": {},
   "outputs": [
    {
     "data": {
      "text/plain": [
       "2"
      ]
     },
     "execution_count": 109,
     "metadata": {},
     "output_type": "execute_result"
    }
   ],
   "source": [
    "len(boxes_diff_count_df)"
   ]
  },
  {
   "cell_type": "code",
   "execution_count": 113,
   "metadata": {},
   "outputs": [
    {
     "data": {
      "text/plain": [
       "'Box1'"
      ]
     },
     "execution_count": 113,
     "metadata": {},
     "output_type": "execute_result"
    }
   ],
   "source": [
    "best_box = boxes_diff_count_df.index[0]\n",
    "best_box"
   ]
  },
  {
   "cell_type": "code",
   "execution_count": 114,
   "metadata": {},
   "outputs": [
    {
     "data": {
      "text/plain": [
       "6.666666666666667"
      ]
     },
     "execution_count": 114,
     "metadata": {},
     "output_type": "execute_result"
    }
   ],
   "source": [
    "120/18"
   ]
  },
  {
   "cell_type": "code",
   "execution_count": 116,
   "metadata": {},
   "outputs": [
    {
     "ename": "ValueError",
     "evalue": "Array conditional must be same shape as self",
     "output_type": "error",
     "traceback": [
      "\u001b[1;31m---------------------------------------------------------------------------\u001b[0m",
      "\u001b[1;31mValueError\u001b[0m                                Traceback (most recent call last)",
      "\u001b[1;32m<ipython-input-116-bab0bf223bd9>\u001b[0m in \u001b[0;36m<module>\u001b[1;34m\u001b[0m\n\u001b[0;32m      1\u001b[0m \u001b[0mtubes_df\u001b[0m\u001b[1;33m.\u001b[0m\u001b[0mhead\u001b[0m\u001b[1;33m(\u001b[0m\u001b[1;33m)\u001b[0m\u001b[1;33m\u001b[0m\u001b[1;33m\u001b[0m\u001b[0m\n\u001b[1;32m----> 2\u001b[1;33m \u001b[0mtubes_df\u001b[0m\u001b[1;33m.\u001b[0m\u001b[0mwhere\u001b[0m\u001b[1;33m(\u001b[0m\u001b[1;34m'boxname = Box1'\u001b[0m\u001b[1;33m)\u001b[0m\u001b[1;33m\u001b[0m\u001b[1;33m\u001b[0m\u001b[0m\n\u001b[0m",
      "\u001b[1;32m~\\AppData\\Local\\Continuum\\anaconda3\\envs\\barcode-tests-37\\lib\\site-packages\\pandas\\core\\generic.py\u001b[0m in \u001b[0;36mwhere\u001b[1;34m(self, cond, other, inplace, axis, level, errors, try_cast)\u001b[0m\n\u001b[0;32m   9276\u001b[0m         \u001b[0mother\u001b[0m \u001b[1;33m=\u001b[0m \u001b[0mcom\u001b[0m\u001b[1;33m.\u001b[0m\u001b[0mapply_if_callable\u001b[0m\u001b[1;33m(\u001b[0m\u001b[0mother\u001b[0m\u001b[1;33m,\u001b[0m \u001b[0mself\u001b[0m\u001b[1;33m)\u001b[0m\u001b[1;33m\u001b[0m\u001b[1;33m\u001b[0m\u001b[0m\n\u001b[0;32m   9277\u001b[0m         return self._where(\n\u001b[1;32m-> 9278\u001b[1;33m             \u001b[0mcond\u001b[0m\u001b[1;33m,\u001b[0m \u001b[0mother\u001b[0m\u001b[1;33m,\u001b[0m \u001b[0minplace\u001b[0m\u001b[1;33m,\u001b[0m \u001b[0maxis\u001b[0m\u001b[1;33m,\u001b[0m \u001b[0mlevel\u001b[0m\u001b[1;33m,\u001b[0m \u001b[0merrors\u001b[0m\u001b[1;33m=\u001b[0m\u001b[0merrors\u001b[0m\u001b[1;33m,\u001b[0m \u001b[0mtry_cast\u001b[0m\u001b[1;33m=\u001b[0m\u001b[0mtry_cast\u001b[0m\u001b[1;33m\u001b[0m\u001b[1;33m\u001b[0m\u001b[0m\n\u001b[0m\u001b[0;32m   9279\u001b[0m         )\n\u001b[0;32m   9280\u001b[0m \u001b[1;33m\u001b[0m\u001b[0m\n",
      "\u001b[1;32m~\\AppData\\Local\\Continuum\\anaconda3\\envs\\barcode-tests-37\\lib\\site-packages\\pandas\\core\\generic.py\u001b[0m in \u001b[0;36m_where\u001b[1;34m(self, cond, other, inplace, axis, level, errors, try_cast)\u001b[0m\n\u001b[0;32m   8996\u001b[0m                 \u001b[0mcond\u001b[0m \u001b[1;33m=\u001b[0m \u001b[0mnp\u001b[0m\u001b[1;33m.\u001b[0m\u001b[0masanyarray\u001b[0m\u001b[1;33m(\u001b[0m\u001b[0mcond\u001b[0m\u001b[1;33m)\u001b[0m\u001b[1;33m\u001b[0m\u001b[1;33m\u001b[0m\u001b[0m\n\u001b[0;32m   8997\u001b[0m             \u001b[1;32mif\u001b[0m \u001b[0mcond\u001b[0m\u001b[1;33m.\u001b[0m\u001b[0mshape\u001b[0m \u001b[1;33m!=\u001b[0m \u001b[0mself\u001b[0m\u001b[1;33m.\u001b[0m\u001b[0mshape\u001b[0m\u001b[1;33m:\u001b[0m\u001b[1;33m\u001b[0m\u001b[1;33m\u001b[0m\u001b[0m\n\u001b[1;32m-> 8998\u001b[1;33m                 \u001b[1;32mraise\u001b[0m \u001b[0mValueError\u001b[0m\u001b[1;33m(\u001b[0m\u001b[1;34m\"Array conditional must be same shape as \"\u001b[0m \u001b[1;34m\"self\"\u001b[0m\u001b[1;33m)\u001b[0m\u001b[1;33m\u001b[0m\u001b[1;33m\u001b[0m\u001b[0m\n\u001b[0m\u001b[0;32m   8999\u001b[0m             \u001b[0mcond\u001b[0m \u001b[1;33m=\u001b[0m \u001b[0mself\u001b[0m\u001b[1;33m.\u001b[0m\u001b[0m_constructor\u001b[0m\u001b[1;33m(\u001b[0m\u001b[0mcond\u001b[0m\u001b[1;33m,\u001b[0m \u001b[1;33m**\u001b[0m\u001b[0mself\u001b[0m\u001b[1;33m.\u001b[0m\u001b[0m_construct_axes_dict\u001b[0m\u001b[1;33m(\u001b[0m\u001b[1;33m)\u001b[0m\u001b[1;33m)\u001b[0m\u001b[1;33m\u001b[0m\u001b[1;33m\u001b[0m\u001b[0m\n\u001b[0;32m   9000\u001b[0m \u001b[1;33m\u001b[0m\u001b[0m\n",
      "\u001b[1;31mValueError\u001b[0m: Array conditional must be same shape as self"
     ]
    }
   ],
   "source": [
    "tubes_df.head()\n",
    "tubes_df.where('boxname = Box1')"
   ]
  },
  {
   "cell_type": "code",
   "execution_count": 118,
   "metadata": {},
   "outputs": [
    {
     "name": "stdout",
     "output_type": "stream",
     "text": [
      "20190821\n"
     ]
    }
   ],
   "source": [
    "from datetime import datetime\n",
    "filename = '{:%Y%m%d}'.format(datetime.now())\n",
    "print(filename)"
   ]
  },
  {
   "cell_type": "code",
   "execution_count": 120,
   "metadata": {},
   "outputs": [
    {
     "ename": "AttributeError",
     "evalue": "'WindowsPath' object has no attribute 'format'",
     "output_type": "error",
     "traceback": [
      "\u001b[1;31m---------------------------------------------------------------------------\u001b[0m",
      "\u001b[1;31mAttributeError\u001b[0m                            Traceback (most recent call last)",
      "\u001b[1;32m<ipython-input-120-f11822c451d7>\u001b[0m in \u001b[0;36m<module>\u001b[1;34m\u001b[0m\n\u001b[0;32m      1\u001b[0m \u001b[1;32mfrom\u001b[0m \u001b[0mdatetime\u001b[0m \u001b[1;32mimport\u001b[0m \u001b[0mdatetime\u001b[0m\u001b[1;33m\u001b[0m\u001b[1;33m\u001b[0m\u001b[0m\n\u001b[0;32m      2\u001b[0m \u001b[1;32mfrom\u001b[0m \u001b[0mpathlib\u001b[0m \u001b[1;32mimport\u001b[0m \u001b[0mPath\u001b[0m\u001b[1;33m\u001b[0m\u001b[1;33m\u001b[0m\u001b[0m\n\u001b[1;32m----> 3\u001b[1;33m \u001b[0mfilename\u001b[0m \u001b[1;33m=\u001b[0m \u001b[0mPath\u001b[0m\u001b[1;33m(\u001b[0m\u001b[1;34m'{:%Y%m%d}'\u001b[0m\u001b[1;33m)\u001b[0m\u001b[1;33m.\u001b[0m\u001b[0mformat\u001b[0m\u001b[1;33m(\u001b[0m\u001b[0mdatetime\u001b[0m\u001b[1;33m.\u001b[0m\u001b[0mnow\u001b[0m\u001b[1;33m(\u001b[0m\u001b[1;33m)\u001b[0m\u001b[1;33m)\u001b[0m\u001b[1;33m\u001b[0m\u001b[1;33m\u001b[0m\u001b[0m\n\u001b[0m\u001b[0;32m      4\u001b[0m \u001b[0mprint\u001b[0m\u001b[1;33m(\u001b[0m\u001b[0mfilename\u001b[0m\u001b[1;33m)\u001b[0m\u001b[1;33m\u001b[0m\u001b[1;33m\u001b[0m\u001b[0m\n",
      "\u001b[1;31mAttributeError\u001b[0m: 'WindowsPath' object has no attribute 'format'"
     ]
    }
   ],
   "source": [
    "from datetime import datetime\n",
    "from pathlib import Path\n",
    "filename = Path('{:%Y%m%d}').format(datetime.now())\n",
    "print(filename)"
   ]
  },
  {
   "cell_type": "code",
   "execution_count": 127,
   "metadata": {},
   "outputs": [],
   "source": [
    "p = Path(\"~/non-existing-folder\")\n",
    "p = p.expanduser()\n",
    "p.mkdir?"
   ]
  },
  {
   "cell_type": "code",
   "execution_count": 128,
   "metadata": {},
   "outputs": [
    {
     "data": {
      "text/plain": [
       "{'a', 'b'}"
      ]
     },
     "execution_count": 128,
     "metadata": {},
     "output_type": "execute_result"
    }
   ],
   "source": [
    "set(dict(a=1, b=2))"
   ]
  },
  {
   "cell_type": "code",
   "execution_count": 7,
   "metadata": {},
   "outputs": [
    {
     "data": {
      "text/plain": [
       "('A', '01')"
      ]
     },
     "execution_count": 7,
     "metadata": {},
     "output_type": "execute_result"
    }
   ],
   "source": [
    "import re\n",
    "pos_regex=r\"(?P<row>[A-z])(?P<col>\\d+)\"\n",
    "pos_regex = re.compile(pos_regex)\n",
    "match = pos_regex.match(\"A01\")\n",
    "match.groupdict()\n",
    "match.groups()"
   ]
  },
  {
   "cell_type": "code",
   "execution_count": 11,
   "metadata": {},
   "outputs": [
    {
     "ename": "SyntaxError",
     "evalue": "illegal expression for augmented assignment (<ipython-input-11-762c5aec569a>, line 2)",
     "output_type": "error",
     "traceback": [
      "\u001b[1;36m  File \u001b[1;32m\"<ipython-input-11-762c5aec569a>\"\u001b[1;36m, line \u001b[1;32m2\u001b[0m\n\u001b[1;33m    a, b += 1, 1\u001b[0m\n\u001b[1;37m                ^\u001b[0m\n\u001b[1;31mSyntaxError\u001b[0m\u001b[1;31m:\u001b[0m illegal expression for augmented assignment\n"
     ]
    }
   ],
   "source": [
    "a, b = 1, 2\n",
    "a, b += 1, 1\n",
    "\n",
    "a, b"
   ]
  },
  {
   "cell_type": "code",
   "execution_count": 22,
   "metadata": {},
   "outputs": [
    {
     "name": "stdout",
     "output_type": "stream",
     "text": [
      "(1, 2)\n",
      "[1 2]\n",
      "[[1 2]\n",
      " [3 4]]\n"
     ]
    }
   ],
   "source": [
    "ks, vs = zip(*dict(a=1, b=2).items())\n",
    "print(vs)\n",
    "print(np.array(vs))\n",
    "print(np.array(((1, 2), (3, 4))))"
   ]
  },
  {
   "cell_type": "code",
   "execution_count": 25,
   "metadata": {},
   "outputs": [
    {
     "data": {
      "text/plain": [
       "True"
      ]
     },
     "execution_count": 25,
     "metadata": {},
     "output_type": "execute_result"
    }
   ],
   "source": [
    "a = np.array(vs)\n",
    "type(a)\n",
    "isinstance(a, np.ndarray)"
   ]
  },
  {
   "cell_type": "code",
   "execution_count": 40,
   "metadata": {},
   "outputs": [
    {
     "data": {
      "text/plain": [
       "array([3., 4.])"
      ]
     },
     "execution_count": 40,
     "metadata": {},
     "output_type": "execute_result"
    }
   ],
   "source": [
    "a = np.array(((1, 2), (3, 4), (5, 6)))\n",
    "np.mean?\n",
    "np.mean(a, axis=0)"
   ]
  },
  {
   "cell_type": "code",
   "execution_count": 41,
   "metadata": {},
   "outputs": [
    {
     "data": {
      "text/plain": [
       "array([2.23606798, 5.        , 7.81024968])"
      ]
     },
     "execution_count": 41,
     "metadata": {},
     "output_type": "execute_result"
    }
   ],
   "source": [
    "np.linalg.norm(a, axis=1)"
   ]
  },
  {
   "cell_type": "code",
   "execution_count": 45,
   "metadata": {},
   "outputs": [
    {
     "name": "stdout",
     "output_type": "stream",
     "text": [
      "[[1 2]\n",
      " [3 4]\n",
      " [5 6]]\n",
      "[[ 1  4]\n",
      " [ 9 16]\n",
      " [25 36]]\n"
     ]
    },
    {
     "data": {
      "text/plain": [
       "array([2.23606798, 5.        , 7.81024968])"
      ]
     },
     "execution_count": 45,
     "metadata": {},
     "output_type": "execute_result"
    }
   ],
   "source": [
    "asq = a*a\n",
    "print(a)\n",
    "print(asq)\n",
    "np.sqrt(asq[:, 0] + asq[:, 1])"
   ]
  },
  {
   "cell_type": "code",
   "execution_count": 46,
   "metadata": {},
   "outputs": [
    {
     "data": {
      "text/plain": [
       "[1, 2, 3]"
      ]
     },
     "execution_count": 46,
     "metadata": {},
     "output_type": "execute_result"
    }
   ],
   "source": [
    "sorted([1, 2, 3])"
   ]
  },
  {
   "cell_type": "code",
   "execution_count": null,
   "metadata": {},
   "outputs": [],
   "source": []
  },
  {
   "cell_type": "code",
   "execution_count": null,
   "metadata": {},
   "outputs": [],
   "source": []
  },
  {
   "cell_type": "code",
   "execution_count": null,
   "metadata": {},
   "outputs": [],
   "source": []
  },
  {
   "cell_type": "code",
   "execution_count": null,
   "metadata": {},
   "outputs": [],
   "source": []
  },
  {
   "cell_type": "code",
   "execution_count": null,
   "metadata": {},
   "outputs": [],
   "source": []
  },
  {
   "cell_type": "code",
   "execution_count": null,
   "metadata": {},
   "outputs": [],
   "source": []
  },
  {
   "cell_type": "code",
   "execution_count": null,
   "metadata": {},
   "outputs": [],
   "source": []
  },
  {
   "cell_type": "code",
   "execution_count": null,
   "metadata": {},
   "outputs": [],
   "source": []
  },
  {
   "cell_type": "code",
   "execution_count": null,
   "metadata": {},
   "outputs": [],
   "source": []
  },
  {
   "cell_type": "code",
   "execution_count": null,
   "metadata": {},
   "outputs": [],
   "source": []
  },
  {
   "cell_type": "code",
   "execution_count": null,
   "metadata": {},
   "outputs": [],
   "source": []
  },
  {
   "cell_type": "code",
   "execution_count": null,
   "metadata": {},
   "outputs": [],
   "source": []
  },
  {
   "cell_type": "code",
   "execution_count": null,
   "metadata": {},
   "outputs": [],
   "source": []
  },
  {
   "cell_type": "code",
   "execution_count": null,
   "metadata": {},
   "outputs": [],
   "source": []
  }
 ],
 "metadata": {
  "kernelspec": {
   "display_name": "Python 3",
   "language": "python",
   "name": "python3"
  },
  "language_info": {
   "codemirror_mode": {
    "name": "ipython",
    "version": 3
   },
   "file_extension": ".py",
   "mimetype": "text/x-python",
   "name": "python",
   "nbconvert_exporter": "python",
   "pygments_lexer": "ipython3",
   "version": "3.7.3"
  }
 },
 "nbformat": 4,
 "nbformat_minor": 2
}
